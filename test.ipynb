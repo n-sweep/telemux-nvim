{
 "cells": [
  {
   "cell_type": "code",
   "execution_count": null,
   "id": "0539570d",
   "metadata": {
    "lines_to_next_cell": 1
   },
   "outputs": [],
   "source": [
    "import closedloop.api_private as api\n",
    "# import plotly.express as px\n",
    "import plotly.io as pio\n",
    "import pandas as pd\n",
    "\n",
    "# plotly setup\n",
    "pio.renderers.default = 'notebook'\n",
    "pd.options.plotting.backend = 'plotly'\n",
    "\n",
    "# plot using CL colors\n",
    "cl_colors = ['#207DBA', '#F7C31A', '#1fad58', '#7f52e0']\n",
    "cl_template = pio.templates['plotly']\n",
    "cl_template.layout.colorway = cl_colors\n",
    "pio.templates['cl_template'] = cl_template\n",
    "pio.templates.default = 'cl_template'\n",
    "\n",
    "\n",
    "def pwrite(fig, plt='/tmp/vis/plot.json'):\n",
    "    fig = fig.update_layout(autosize=False)\n",
    "    fig.write_json(plt)"
   ]
  },
  {
   "cell_type": "markdown",
   "id": "305d0904",
   "metadata": {},
   "source": [
    "# Template Notebook"
   ]
  },
  {
   "cell_type": "code",
   "execution_count": null,
   "id": "3cd34619",
   "metadata": {},
   "outputs": [],
   "source": [
    "cl = api.ClosedLoopClientPrivate(\"PROD\")\n",
    "psId = \"\"\n",
    "cl.getPersonStore(psId).name"
   ]
  },
  {
   "cell_type": "code",
   "execution_count": null,
   "id": "9f02d2f0",
   "metadata": {
    "lines_to_next_cell": 0
   },
   "outputs": [],
   "source": []
  },
  {
   "cell_type": "code",
   "execution_count": null,
   "id": "5793f334",
   "metadata": {
    "lines_to_next_cell": 0
   },
   "outputs": [],
   "source": []
  },
  {
   "cell_type": "code",
   "execution_count": null,
   "id": "4755cb68",
   "metadata": {},
   "outputs": [],
   "source": []
  }
 ],
 "metadata": {
  "kernelspec": {
   "display_name": "Python3",
   "language": "python",
   "name": "Python3"
  }
 },
 "nbformat": 4,
 "nbformat_minor": 5
}
